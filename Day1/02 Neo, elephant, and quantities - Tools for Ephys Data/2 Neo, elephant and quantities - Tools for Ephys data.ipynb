{
 "cells": [
  {
   "cell_type": "code",
   "execution_count": null,
   "metadata": {},
   "outputs": [],
   "source": [
    "%pip install numpy elephant quantities neo matplotlib"
   ]
  },
  {
   "cell_type": "markdown",
   "metadata": {},
   "source": [
    "# Introduction\n",
    "\n",
    "In this notebook, you will learn how to use the Neo, Elephant, and quantities packages to work with electrophysiological data."
   ]
  },
  {
   "cell_type": "code",
   "execution_count": 3,
   "metadata": {},
   "outputs": [],
   "source": [
    "import quantities as pq\n",
    "import neo\n",
    "\n",
    "import numpy as np\n",
    "import matplotlib.pyplot as plt"
   ]
  },
  {
   "cell_type": "markdown",
   "metadata": {},
   "source": [
    "## Section 1"
   ]
  },
  {
   "cell_type": "markdown",
   "metadata": {},
   "source": [
    "### Quantities: Adding units to variables\n",
    "\n",
    "Checking the units of your final answer in a calculation is a good way to make sure that your calculation is correct. If your answer has the wrong units, then there's definitely something wrong with the calculation. In Python, we typically don't have units attached to variables, so we have to keep track of them through a calculation ourselves. However, there are libraries that allow you to attach units to variables, so that it can be kept track of automatically. One of those libraries is quantities, which we'll be working with in this section.\n",
    "\n",
    "| Code | Description |\n",
    "| :-- | :-- |\n",
    "| `pq.A` | Creates the quantities unit Ampere |\n",
    "| `pq.V` | Creates the quantities unit Volt |\n",
    "| `pq.Hz` | Creates the quantities unit Hertz |\n",
    "| `pq.s` | Creates the quantities unit seconds|\n",
    "| `pq.ms` | Creates the quantities unit milliseconds|\n",
    "| `pq.` | If you only write \"``pq.``\", you will see a list of all the functions and attributes belonging to `pq`. The attributes will be the different units you can create. Scrolling through the list is one way to find the unit you need. |\n",
    "| `x = 10*pq.Hz` | Creates the a variable `x` containing the value ``10`` with the unit ``Hz`` (Hertz) attached. |\n",
    "|`x = np.array([1,2,3] * pq.ms)`| Create a variable `x` containing three values with units milliseconds.|\n",
    "|`x.units`| Get the units of the variable `x`.|\n",
    "|`x.magnitude`| Get the magnitude (value) of the variable `x` without the unit.|\n",
    "|`x * y` or `x / y`| Multiplication or division between two variables with units will also multiply or divide the units of those variables.|"
   ]
  },
  {
   "cell_type": "markdown",
   "metadata": {},
   "source": [
    "**Example**: Create a variable named ``current`` that has the value 5 and unit Ampere (A). Display the `current` variable. \n",
    "\n",
    "The output should be `array(5.) * A`, which says that it's an array containing the value 5 multiplied with the unit A (for Ampere)."
   ]
  },
  {
   "cell_type": "code",
   "execution_count": 4,
   "metadata": {},
   "outputs": [
    {
     "data": {
      "text/plain": [
       "array(5.) * A"
      ]
     },
     "execution_count": 4,
     "metadata": {},
     "output_type": "execute_result"
    }
   ],
   "source": [
    "current = 5*pq.A\n",
    "\n",
    "current"
   ]
  },
  {
   "cell_type": "markdown",
   "metadata": {},
   "source": [
    "**Exercise**: Create a variable named ``potential`` which contains a the value ``10`` and has the unit Volt. Display the `potential` variable."
   ]
  },
  {
   "cell_type": "code",
   "execution_count": 5,
   "metadata": {},
   "outputs": [],
   "source": [
    "# solution\n"
   ]
  },
  {
   "cell_type": "markdown",
   "metadata": {},
   "source": [
    "**Exercise**: Create and display a variable named ``time_points`` which contains the three values ``[10,20,30]`` and has the unit seconds."
   ]
  },
  {
   "cell_type": "code",
   "execution_count": 6,
   "metadata": {},
   "outputs": [],
   "source": [
    "# solution\n"
   ]
  },
  {
   "cell_type": "markdown",
   "metadata": {},
   "source": [
    "**Exercise**: Get the units of the ``potential`` variable. The output should be `array(1.) * V`."
   ]
  },
  {
   "cell_type": "code",
   "execution_count": 7,
   "metadata": {},
   "outputs": [],
   "source": [
    "# solution\n"
   ]
  },
  {
   "cell_type": "markdown",
   "metadata": {},
   "source": [
    "**Exercise**: Get the units of the ``time`` variable. The output should be `array(1.) * s`."
   ]
  },
  {
   "cell_type": "code",
   "execution_count": 8,
   "metadata": {},
   "outputs": [],
   "source": [
    "# solution\n"
   ]
  },
  {
   "cell_type": "markdown",
   "metadata": {},
   "source": [
    "**Exercise**: Get the values (the magnitude) of the ``time_points`` variable (that is, the values of the array without the unit). The output should be `array([10., 20., 30.])`."
   ]
  },
  {
   "cell_type": "code",
   "execution_count": 9,
   "metadata": {},
   "outputs": [],
   "source": [
    "# solution\n"
   ]
  },
  {
   "cell_type": "markdown",
   "metadata": {},
   "source": [
    "**Exercise**: Multiply distance a with distance b. What's the resulting unit?"
   ]
  },
  {
   "cell_type": "code",
   "execution_count": 10,
   "metadata": {},
   "outputs": [],
   "source": [
    "a = 10*pq.m\n",
    "b = 2*pq.m"
   ]
  },
  {
   "cell_type": "code",
   "execution_count": 10,
   "metadata": {},
   "outputs": [],
   "source": [
    "# solution\n"
   ]
  },
  {
   "cell_type": "markdown",
   "metadata": {},
   "source": [
    "**Exercise**: Divide distance ``a`` with distance ``b``. What unit does the result have?"
   ]
  },
  {
   "cell_type": "code",
   "execution_count": null,
   "metadata": {},
   "outputs": [],
   "source": [
    "# provided\n",
    "\n",
    "a = 10*pq.m\n",
    "b = 2*pq.m"
   ]
  },
  {
   "cell_type": "code",
   "execution_count": 11,
   "metadata": {},
   "outputs": [],
   "source": [
    "# solution\n"
   ]
  },
  {
   "cell_type": "markdown",
   "metadata": {},
   "source": [
    "**Exercise**: Divide the ``potential`` by the ``current``. What's the resulting unit?"
   ]
  },
  {
   "cell_type": "code",
   "execution_count": 14,
   "metadata": {},
   "outputs": [],
   "source": [
    "# provided\n",
    "\n",
    "potential = [4,8,10]*pq.V\n",
    "current = [2,4,2]*pq.A"
   ]
  },
  {
   "cell_type": "code",
   "execution_count": 12,
   "metadata": {},
   "outputs": [],
   "source": [
    "# solution\n"
   ]
  },
  {
   "cell_type": "markdown",
   "metadata": {},
   "source": [
    "## Section 2"
   ]
  },
  {
   "cell_type": "markdown",
   "metadata": {},
   "source": [
    "### Neo: Representing Electrophysiology Data in Python\n",
    "\n",
    "With Neo, you can store data, metadata, as well as the relationships between different parts of the data together in one Neo object.\n",
    "\n",
    "#### Representing time series data\n",
    "\n",
    "- `AnalogSignal`: Continuous data sampled in **regular** intervals\n",
    "- `IrregularlySampledSignal`: Continuous data sampled in **irregular** intervals\n",
    "\n",
    "![ImageSequence](resources/base_schematic_2.png)\n",
    "\n",
    "| Code | Description |\n",
    "| :-- | :-- |\n",
    "| `anasig = neo.AnalogSignal(signal, units = pq.V, sampling_rate, t_start)` | Creates an analog signal neo object containing continuous signal data sampled at **regular** intervals. *Required metadata*: physical unit of samples, timestamps of the samples (first timestamp and sampling interval)|\n",
    "|`anasig.annotate(quality='excellent', date='2030-05-27)`| Add annotations (additional, optional metadata) to the neo AnalogSignal object.|\n",
    "|`spiketrain = neo.SpikeTrain(timestamps, units='ms',t_stop=300*pq.ms)`| Make a neo SpikeTrain object containing the timestamps at which a cell spiked. `t_stop` specificies when the end of the time window (the highest possible timestamp value) in units of milliseconds (``pq.ms``).|\n",
    "|`neo_object.magnitude`| Get the values (the magnitude of the signal, for example) of the neo object without the unit.|\n",
    "|`neo_object.units`| Get the units of neo object.|\n",
    "|`np.random.random(size=(nrows,ncols))`| Creates an array containing random values between 0 and 1 with `nrows` number of rows and `ncols` number of columns. |\n"
   ]
  },
  {
   "cell_type": "markdown",
   "metadata": {},
   "source": [
    "**Example**: Create an AnalogSignal object out of the `recorded_potential` variable representing a fictional LFP trace from a single channel. The signal object should have units `V` (Volt), a sampling rate of 1000 Hz, and start at ``0 ms``."
   ]
  },
  {
   "cell_type": "code",
   "execution_count": 16,
   "metadata": {},
   "outputs": [],
   "source": [
    "recorded_potential = [0,1,2,3,4,5,5,4,3,2,1,0]"
   ]
  },
  {
   "cell_type": "code",
   "execution_count": 17,
   "metadata": {},
   "outputs": [
    {
     "data": {
      "text/plain": [
       "AnalogSignal with 1 channels of length 12; units V; datatype int32\n",
       "sampling rate: 1000.0 Hz\n",
       "time: 0.0 ms to 12.0 ms"
      ]
     },
     "execution_count": 17,
     "metadata": {},
     "output_type": "execute_result"
    }
   ],
   "source": [
    "# solution\n",
    "\n",
    "lfp_trace = neo.AnalogSignal(recorded_potential,\n",
    "                            units='V', \n",
    "                            sampling_rate=1000.*pq.Hz,\n",
    "                            t_start=0*pq.ms)\n",
    "\n",
    "lfp_trace"
   ]
  },
  {
   "cell_type": "markdown",
   "metadata": {},
   "source": [
    "**Exercise**: Create an AnalogSignal object of the ``recorded_potential`` variable containing fictional LFP traces from ``2`` recording channels with ``50`` samples over time. The signal should have units `uV` (microvolt), a sampling rate of ``10000 Hz``, and start at ``0 ms``."
   ]
  },
  {
   "cell_type": "code",
   "execution_count": 141,
   "metadata": {},
   "outputs": [],
   "source": [
    "# solution\n"
   ]
  },
  {
   "cell_type": "markdown",
   "metadata": {},
   "source": [
    "**Exercise**: Create an AnalogSignal object containing generated random data with ``1000`` samples from ``8`` channels (hint: ``np.random.random((1000,8))``.) The signal should have units `mV` (millivolts) and a sampling rate of ``1000 Hz``, and start at ``100 ms``."
   ]
  },
  {
   "cell_type": "code",
   "execution_count": 140,
   "metadata": {},
   "outputs": [],
   "source": [
    "# solution\n"
   ]
  },
  {
   "cell_type": "markdown",
   "metadata": {},
   "source": [
    "**Exercise**: Annotate your AnalogSignal from either the previous exercise or the example to say that it has that the quality of the recording was high. Display the variable containing the AnalogSignal to check that the annotations are included."
   ]
  },
  {
   "cell_type": "code",
   "execution_count": 139,
   "metadata": {},
   "outputs": [],
   "source": [
    "# solution\n"
   ]
  },
  {
   "cell_type": "markdown",
   "metadata": {},
   "source": [
    "**Exercise**: Annotate your AnalogSignal from either the previous exercise or the example to say which date it was recorded (for example, today's date). Display the variable containing the AnalogSignal to check that the annotations are included."
   ]
  },
  {
   "cell_type": "code",
   "execution_count": 138,
   "metadata": {},
   "outputs": [],
   "source": [
    "# solution\n"
   ]
  },
  {
   "cell_type": "markdown",
   "metadata": {},
   "source": [
    "**Exercise**: Annotate one of the your AnalogSignal that doesn't have any annotations yet with your own, made-up annotations. You can add multiple annotations at the same time, you don't have to write `.annotate` for every new annotation. Display the variable containing the AnalogSignal to check that the annotations are included."
   ]
  },
  {
   "cell_type": "code",
   "execution_count": null,
   "metadata": {},
   "outputs": [],
   "source": [
    "# solution\n"
   ]
  },
  {
   "cell_type": "markdown",
   "metadata": {},
   "source": [
    "**DEMO**: You can still use normal plotting functions from matplotlib to plot your signal even when it's stored in a neo object together with meta data. Run the cell below to plot the (not so realistic) LFP trace created in the example above."
   ]
  },
  {
   "cell_type": "code",
   "execution_count": 107,
   "metadata": {},
   "outputs": [
    {
     "data": {
      "image/png": "[encoded data removed]",
      "text/plain": [
       "<Figure size 640x480 with 1 Axes>"
      ]
     },
     "metadata": {},
     "output_type": "display_data"
    }
   ],
   "source": [
    "plt.plot(lfp_trace)\n",
    "plt.xlabel('Time (ms)');\n",
    "plt.ylabel(r'LFP ($\\mu$V)');"
   ]
  },
  {
   "cell_type": "markdown",
   "metadata": {},
   "source": [
    "You can also use ``neo`` to store spike train data together with metadata in the same object.\n",
    "\n",
    "**Example**: Create a SpikeTrain object containing the timestamps (the time points at which the neuron fired) ``[50, 100, 200]`` of neuron. Give it units `ms` and have the period start at 0 and stop 300 ms. Display the spike train."
   ]
  },
  {
   "cell_type": "code",
   "execution_count": 38,
   "metadata": {},
   "outputs": [
    {
     "data": {
      "text/plain": [
       "SpikeTrain containing 3 spikes; units ms; datatype float64 \n",
       "time: 0.0 ms to 300.0 ms"
      ]
     },
     "execution_count": 38,
     "metadata": {},
     "output_type": "execute_result"
    }
   ],
   "source": [
    "# solution\n",
    "\n",
    "timestamps = [50, 100, 200]\n",
    "\n",
    "spike_train = neo.SpikeTrain(timestamps,\n",
    "                    units='ms',\n",
    "                    t_start=0*pq.ms,\n",
    "                    t_stop=300*pq.ms)\n",
    "\n",
    "spike_train"
   ]
  },
  {
   "cell_type": "markdown",
   "metadata": {},
   "source": [
    "You can always show the timestamps by typing `.magnitude` behind the spike train object, like in the cell below (simply run it, you don't need to add to the code)."
   ]
  },
  {
   "cell_type": "code",
   "execution_count": null,
   "metadata": {},
   "outputs": [
    {
     "data": {
      "text/plain": [
       "array([ 50., 100., 200.])"
      ]
     },
     "execution_count": 39,
     "metadata": {},
     "output_type": "execute_result"
    }
   ],
   "source": [
    "spike_train.magnitude"
   ]
  },
  {
   "cell_type": "markdown",
   "metadata": {},
   "source": [
    "**Exercise**: Create a SpikeTrain object out of the variable `timestamps` containing the time points at which a neuron fired. Give it units `ms` and have the period start at 100 and stop 300 ms. Display the spike train. How many spikes does it say that there are?"
   ]
  },
  {
   "cell_type": "code",
   "execution_count": 40,
   "metadata": {},
   "outputs": [],
   "source": [
    "timestamps = [120,140,160,180,200,220,240]"
   ]
  },
  {
   "cell_type": "code",
   "execution_count": 136,
   "metadata": {},
   "outputs": [],
   "source": [
    "# solution\n"
   ]
  },
  {
   "cell_type": "markdown",
   "metadata": {},
   "source": [
    "**Exercise**: Get the magnitude of the neo SpikeTrain object. "
   ]
  },
  {
   "cell_type": "code",
   "execution_count": 137,
   "metadata": {},
   "outputs": [],
   "source": [
    "# solution\n"
   ]
  },
  {
   "cell_type": "markdown",
   "metadata": {},
   "source": [
    "**Exercise**: Create a SpikeTrain object out of the variable `timestamps` containing the time points another neuron fired. Give it units `s` (seconds) and have the period start at ``1 s`` and stop ``5 s``. Display the spike train."
   ]
  },
  {
   "cell_type": "code",
   "execution_count": 43,
   "metadata": {},
   "outputs": [],
   "source": [
    "timestamps = [1.1,2.1,3.1,4.5]"
   ]
  },
  {
   "cell_type": "code",
   "execution_count": 135,
   "metadata": {},
   "outputs": [],
   "source": [
    "# solution\n"
   ]
  },
  {
   "cell_type": "markdown",
   "metadata": {},
   "source": [
    "## Section 3"
   ]
  },
  {
   "cell_type": "markdown",
   "metadata": {},
   "source": [
    "### Elephant for analyzing spike data\n",
    "\n",
    "Elephant is a library in Python made specifically for analyzing electrophysiological data. In this section, you'll explore some of its functions to calculate \n",
    "\n",
    "| Code | Description |\n",
    "| :-- | :-- |\n",
    "| `spike_train = homogeneous_poisson_process(rate=some_rate*pq.Hz, t_start=0.*pq.s, t_stop=10.*pq.s)` | Generates a poisson process spiketrain firing at a rate `some_rate` for 10 seconds. |\n",
    "| `spike_train2 = homogeneous_gamma_process(a=3, b=10*pq.Hz, t_start=0.*pq.s, t_stop=10.*pq.s)` | Generates a gamma process spiketrain firing at a rate `some_rate` for 10 seconds. |\n",
    "| `stats.mean_firing_rate(spike_train)` | Calculates the average firing rate of the spiketrain. |\n",
    "| `isi = stats.isi(spike_train)` | Calculates the inter-spike interval (ISI) of the spiketrain.|\n",
    "| `stats.cv2(isi)` | Calculates the spike interval variability (CV2 score) for a spike train. |\n",
    "| `plt.eventplot([spike_train1.magnitude, spike_train2.magnitude])` | Creates a raster plot for two spike trains. |\n",
    "| `stats.time_histogram(spike_trains=spike_train1, bin_size=1*pq.ms)` | Computes the spike counts per unit time (for example per millisecond) from timestamps. |"
   ]
  },
  {
   "cell_type": "code",
   "execution_count": 7,
   "metadata": {},
   "outputs": [],
   "source": [
    "from elephant.spike_train_generation import homogeneous_poisson_process, homogeneous_gamma_process\n",
    "from elephant import statistics as stats"
   ]
  },
  {
   "cell_type": "markdown",
   "metadata": {},
   "source": [
    "#### Generate spike data\n",
    "\n",
    "Run the cell below to generate three spike trains using Elephant. Two spike trains are generated by a poisson process and the last one is generated by a gamma process."
   ]
  },
  {
   "cell_type": "code",
   "execution_count": 97,
   "metadata": {},
   "outputs": [
    {
     "data": {
      "text/plain": [
       "SpikeTrain containing 68 spikes; units s; datatype float64 \n",
       "time: 0.0 s to 20.0 s"
      ]
     },
     "execution_count": 97,
     "metadata": {},
     "output_type": "execute_result"
    }
   ],
   "source": [
    "np.random.seed(2)  \n",
    "spike_trainA = homogeneous_poisson_process(rate=3*pq.Hz, t_start=0.*pq.s, t_stop=20.*pq.s)\n",
    "spike_trainB = homogeneous_poisson_process(rate=6*pq.Hz, t_start=0.*pq.s, t_stop=20.*pq.s)\n",
    "spike_trainC = homogeneous_gamma_process(a=3, b=6*pq.Hz, t_start=0.*pq.s, t_stop=20.*pq.s)\n",
    "\n",
    "spike_trainA"
   ]
  },
  {
   "cell_type": "markdown",
   "metadata": {},
   "source": [
    "Run the cell below to create a raster plot of the three spike trains."
   ]
  },
  {
   "cell_type": "code",
   "execution_count": 98,
   "metadata": {},
   "outputs": [
    {
     "data": {
      "image/png": "[encoded data removed]",
      "text/plain": [
       "<Figure size 800x300 with 1 Axes>"
      ]
     },
     "metadata": {},
     "output_type": "display_data"
    }
   ],
   "source": [
    "plt.figure(figsize=(8, 3))\n",
    "plt.eventplot([spike_trainA.magnitude, spike_trainB.magnitude, spike_trainC.magnitude])\n",
    "plt.xlabel('Time (s)')\n",
    "plt.yticks([0, 1, 2], labels=[\"Poisson process spike train A\", \"Poisson process spike train B\", \"Gamma process spike train C\"]);"
   ]
  },
  {
   "cell_type": "markdown",
   "metadata": {},
   "source": [
    "**Example**: Calculate average firing rate of spike train A."
   ]
  },
  {
   "cell_type": "code",
   "execution_count": 99,
   "metadata": {},
   "outputs": [
    {
     "data": {
      "text/plain": [
       "array(3.4) * 1/s"
      ]
     },
     "execution_count": 99,
     "metadata": {},
     "output_type": "execute_result"
    }
   ],
   "source": [
    "firing_rate = stats.mean_firing_rate(spike_trainA)\n",
    "firing_rate"
   ]
  },
  {
   "cell_type": "markdown",
   "metadata": {},
   "source": [
    "**Exercise**: Calculate the average firing rate of spike train B."
   ]
  },
  {
   "cell_type": "code",
   "execution_count": 134,
   "metadata": {},
   "outputs": [],
   "source": [
    "# solution\n"
   ]
  },
  {
   "cell_type": "markdown",
   "metadata": {},
   "source": [
    "**Exercise**: Calculate the average firing rate of the third spike train"
   ]
  },
  {
   "cell_type": "code",
   "execution_count": 133,
   "metadata": {},
   "outputs": [],
   "source": [
    "# solution\n"
   ]
  },
  {
   "cell_type": "markdown",
   "metadata": {},
   "source": [
    "You can calculate the inter-spike intervals (ISI) for a spike train where you get the unit included (it should say `* s` at the end of the array containing the ISIs when you display it).\n",
    "\n",
    "**Example**: Calculate the ISI for spike train A using ``elephant``'s function ``stats.isi``."
   ]
  },
  {
   "cell_type": "code",
   "execution_count": null,
   "metadata": {},
   "outputs": [],
   "source": [
    "isi_spike_trainA = stats.isi(spike_trainA)\n",
    "\n",
    "isi_spike_trainA"
   ]
  },
  {
   "cell_type": "markdown",
   "metadata": {},
   "source": [
    "**Exercise**: Calculate the ISI for spike train B."
   ]
  },
  {
   "cell_type": "code",
   "execution_count": 131,
   "metadata": {},
   "outputs": [],
   "source": [
    "# solution\n"
   ]
  },
  {
   "cell_type": "markdown",
   "metadata": {},
   "source": [
    "**Exercise**: Calculate the ISI for spike train C."
   ]
  },
  {
   "cell_type": "code",
   "execution_count": 130,
   "metadata": {},
   "outputs": [],
   "source": [
    "# solution\n"
   ]
  },
  {
   "cell_type": "markdown",
   "metadata": {},
   "source": [
    "The interspike intervals can be used to determine whether a spiking neuron is in a bursting, tonic, or poisson firing mode. A bursting neuron fires very often in a short time window but is otherwise mostly silent. A tonic firing mode means that the neuron is firing at highly regular intervals. A poisson firing mode means that the neuron is firing at random and is neither bursting nor in tonic firing mode.\n",
    "\n",
    "A metric to calculate the the spike interval variability called the CV2 score (``stats.CV2``) is computed from the interspike interval of a neuron. If the CV2 score is 1 (or close to 1), the neuron is firing in a poisson firing mode. If it's > 1, then the neuron is bursting. If it's 0 (or close to 0), then the neuron is in tonic firing mode.\n",
    "\n",
    "**Example**: Calculate the CV2 of the inter-spike interval (ISI) spike train A."
   ]
  },
  {
   "cell_type": "code",
   "execution_count": null,
   "metadata": {},
   "outputs": [
    {
     "data": {
      "text/plain": [
       "0.9653690108731857"
      ]
     },
     "execution_count": 117,
     "metadata": {},
     "output_type": "execute_result"
    }
   ],
   "source": [
    "# solution\n",
    "\n",
    "cv2_spike_trainA = stats.cv2(isi_spike_trainA)\n",
    "\n",
    "cv2_spike_trainA"
   ]
  },
  {
   "cell_type": "markdown",
   "metadata": {},
   "source": [
    "**Exercise**: Calculate the CV2 of the inter-spike interval (ISI) spike train B."
   ]
  },
  {
   "cell_type": "code",
   "execution_count": 129,
   "metadata": {},
   "outputs": [],
   "source": [
    "# solution"
   ]
  },
  {
   "cell_type": "markdown",
   "metadata": {},
   "source": [
    "**Exercise**: Calculate the CV2 of the inter-spike interval (ISI) spike train B.\n",
    "\n",
    "Which spike trains have a CV2 score closest to 1? Is it the ones you would have expected considering which spike trains were generated with a poisson process?"
   ]
  },
  {
   "cell_type": "code",
   "execution_count": 128,
   "metadata": {},
   "outputs": [],
   "source": [
    "# solution\n"
   ]
  },
  {
   "cell_type": "markdown",
   "metadata": {},
   "source": []
  },
  {
   "cell_type": "markdown",
   "metadata": {},
   "source": [
    "The spike trains are stored as timestamps - that is, the time points at which the neuron fired. You can get the spike count within a given time bin (for example, 1 millisecond) with the `stats.time_histogram` function.\n",
    "\n",
    "**Example**: Get and plot the spike count per milisecond of spike train A."
   ]
  },
  {
   "cell_type": "code",
   "execution_count": 127,
   "metadata": {},
   "outputs": [
    {
     "data": {
      "text/plain": [
       "[<matplotlib.lines.Line2D at 0x2d7a000a0d0>]"
      ]
     },
     "execution_count": 127,
     "metadata": {},
     "output_type": "execute_result"
    },
    {
     "data": {
      "image/png": "[encoded data removed]",
      "text/plain": [
       "<Figure size 640x480 with 1 Axes>"
      ]
     },
     "metadata": {},
     "output_type": "display_data"
    }
   ],
   "source": [
    "# solution\n",
    "\n",
    "spike_countA = stats.time_histogram(spiketrains=spike_trainA, bin_size=1*pq.ms)\n",
    "plt.plot(spike_countA.magnitude)"
   ]
  },
  {
   "cell_type": "markdown",
   "metadata": {},
   "source": [
    "**Exercise**: Change the `bin_size` parameter inside the `time_histogram` function to 100 ms (tip: ``bin_size = 100*pq.ms``). Get and plot the spike count per 100 milisecond of spike train A."
   ]
  },
  {
   "cell_type": "code",
   "execution_count": 125,
   "metadata": {},
   "outputs": [],
   "source": [
    "# solution\n"
   ]
  },
  {
   "cell_type": "markdown",
   "metadata": {},
   "source": [
    "**Exercise**: Get and plot the spike count per 100 milisecond of spike train C."
   ]
  },
  {
   "cell_type": "code",
   "execution_count": 124,
   "metadata": {},
   "outputs": [],
   "source": [
    "# solution\n"
   ]
  },
  {
   "cell_type": "markdown",
   "metadata": {},
   "source": [
    "**Exercise**: Get and plot the spike count per 500 milisecond of spike train B."
   ]
  },
  {
   "cell_type": "code",
   "execution_count": null,
   "metadata": {},
   "outputs": [
    {
     "data": {
      "text/plain": [
       "[<matplotlib.lines.Line2D at 0x2d79ff79590>]"
      ]
     },
     "execution_count": 123,
     "metadata": {},
     "output_type": "execute_result"
    },
    {
     "data": {
      "image/png": "[encoded data removed]",
      "text/plain": [
       "<Figure size 640x480 with 1 Axes>"
      ]
     },
     "metadata": {},
     "output_type": "display_data"
    }
   ],
   "source": [
    "# solution\n"
   ]
  },
  {
   "cell_type": "code",
   "execution_count": null,
   "metadata": {},
   "outputs": [],
   "source": []
  }
 ],
 "metadata": {
  "kernelspec": {
   "display_name": "lfp_analysis_wshop_dev",
   "language": "python",
   "name": "python3"
  },
  "language_info": {
   "codemirror_mode": {
    "name": "ipython",
    "version": 3
   },
   "file_extension": ".py",
   "mimetype": "text/x-python",
   "name": "python",
   "nbconvert_exporter": "python",
   "pygments_lexer": "ipython3",
   "version": "3.13.0"
  }
 },
 "nbformat": 4,
 "nbformat_minor": 2
}
